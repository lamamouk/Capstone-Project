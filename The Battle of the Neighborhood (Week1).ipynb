{
    "cells": [
        {
            "cell_type": "markdown",
            "metadata": {
                "collapsed": true
            },
            "source": "# Business & Venues Data Analysis of Boston"
        },
        {
            "cell_type": "markdown",
            "metadata": {},
            "source": "### I. Introduction\nBoston is one of the most historically abundant cities in the United States. It is the capital  of the Massachusetts, and it has about 26 neighborhoods in total which cover an area of 49 square miles. The city has an estimated population of 692,600 in 2019 making it the most populated city in New England. \nBoston is placed among the top 30 most economically powerful cities in the world and is highly innovative because of presence of academia, access to venture capital, and the presence of many high-tech companies. If a contractor is trying to start their own business, then where they locate their business depends in part on the location of the target market/customers, business partners, and their personal preferences. Here, we create a map and cluster the neighborhood venues in Boston to provide venue density and provide information that will guide investors where to best locate their businesses e.g. service, consulting, food store etc.\n"
        },
        {
            "cell_type": "markdown",
            "metadata": {},
            "source": "### II. Data Description\n#### To consider the problem:\nBoston neighborhoods dataset was used from Analyze Boston, which is Boston City\u2019s open data hub. The .csv file has the Neighborhood boundaries data layer which is a grouping of zoning neighborhood boundaries, zip code boundaries and 2010 Census tract boundaries.  This dataset was used for visualization purposes for zoning exploration. \nFoursquare API was used to help provide the information needed to segment and cluster the neighborhoods in the city of Boston. As well as, the most common venue categories in each neighborhood in Boston was used to create a map of the venue density in Boston City.\nCertified business directory dataset was used from Analyze Boston to determine which neighborhood has the most small/local business in Boston. This data set has minority-owned and woman-owned businesses, small and small local businesses, and veteran and service disabled veteran-owned small businesses.\nFood establishment inspection dataset was used from Analyze Boston to find the all the active food establishment found in the Boston City. This was used to analyze the most neighborhoods with the most cuisines and restaurants\nCommunity center dataset was used from Analyze Boston to find the all the community centers/social venues found in the Boston City. This was used to analyze the most neighborhoods with the most social venues and activities.\n.\n\n\n"
        }
    ],
    "metadata": {
        "kernelspec": {
            "display_name": "Python 3.6",
            "language": "python",
            "name": "python3"
        },
        "language_info": {
            "codemirror_mode": {
                "name": "ipython",
                "version": 3
            },
            "file_extension": ".py",
            "mimetype": "text/x-python",
            "name": "python",
            "nbconvert_exporter": "python",
            "pygments_lexer": "ipython3",
            "version": "3.6.9"
        }
    },
    "nbformat": 4,
    "nbformat_minor": 1
}